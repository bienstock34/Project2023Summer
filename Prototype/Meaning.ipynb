{
 "cells": [
  {
   "cell_type": "code",
   "execution_count": 40,
   "id": "2bdafc67-e8d5-44a7-8266-44eb8f087645",
   "metadata": {},
   "outputs": [
    {
     "name": "stdin",
     "output_type": "stream",
     "text": [
      "Enter Filename:  toshihiro.jpg\n"
     ]
    },
    {
     "name": "stdout",
     "output_type": "stream",
     "text": [
      "[1191 2206] [1157 2206] [ 795 2206] [   0 2205] [1163 2203] [1140 2202] [1069 2202] [1236 2198]\n"
     ]
    }
   ],
   "source": [
    "#middle of prototype code\n",
    "#this module should start with a binarized image\n",
    "#processes of this module include edge detection and contour determination\n",
    "import cv2\n",
    "import matplotlib.pyplot as plot\n",
    "from Raster import import_file, grayscale, binarize\n",
    "import numpy as np\n",
    "import random\n",
    "\n",
    "\n",
    "#function: edge detection\n",
    "#purpose: determine the location of edges in the image\n",
    "#arguments: binarized image as uint8 [][] \n",
    "#returns: edges as a uint8 [][] \n",
    "def edge_detection(binarizedImage) :\n",
    "    kernel = np.ones((3,3), np.uint8)\n",
    "    dilatedImage = cv2.dilate(binarizedImage, kernel, iterations=1)\n",
    "    erodedImage = cv2.erode(binarizedImage, kernel, iterations=1)\n",
    "    edges = dilatedImage - erodedImage\n",
    "    return edges\n",
    "\n",
    "\n",
    "#function: find contours\n",
    "#purpose: partitions the discovered edges into contour regions\n",
    "#arguments: edges\n",
    "#returns: (1) contours: a tuple of ndarrays of shape (#pointsInContour, 2)\n",
    "        #(2) hierarchy: numpy array of shape (#contours, [Next, Previous, First Child, Parent])\n",
    "def find_contours(edges) :\n",
    "    contours, hierarchy = cv2.findContours(edges, cv2.RETR_EXTERNAL, cv2.CHAIN_APPROX_SIMPLE)\n",
    "    #reshapes contour because I do not care about OpenCV convention\n",
    "    contours = [contour.reshape((-1,2)) for contour in contours]\n",
    "    return contours, hierarchy\n",
    "\n",
    "\n",
    "if __name__ == \"__main__\":\n",
    "    #test code\n",
    "    binarizedImage = binarize(grayscale(import_file()))  \n",
    "    #plot.figure()\n",
    "    #plot.imshow(binarizedImage, cmap=\"gray\")\n",
    "    edges = edge_detection(binarizedImage)\n",
    "    #print(edges.shape)\n",
    "    #print(\"dtype edges: \", edges.dtype)\n",
    "    #plot.figure()\n",
    "    #plot.imshow(edges, cmap=\"gray\")\n",
    "    contours, hierarchy = find_contours(edges)\n",
    "    print(contours[0][0], contours[1][0], contours[2][0], contours[3][0], contours[4][0], contours[5][0], contours[6][0], contours[7][0])\n",
    "    #print(\"type contours: \", type(contours))\n",
    "    #sortedContours = sorted(contours, key=cv2.contourArea, reverse=True)\n",
    "    #contourImage = np.zeros_like(edges)\n",
    "    #numDraw = min(10, len(sortedContours))\n",
    "    #for i in range (numDraw):\n",
    "    #    color = (random.randint(0, 255), random.randint(0, 255), random.randint(0, 255))\n",
    "    #    cv2.drawContours(contourImage, [sortedContours[i]], -1, color, thickness=2)\n",
    "    #resultImage = cv2.addWeighted(edges, 1, contourImage, 0.5, 0)\n",
    "    #plot.figure()\n",
    "    #plot.imshow(resultImage)"
   ]
  },
  {
   "cell_type": "code",
   "execution_count": null,
   "id": "d58ad258-ea98-45d1-be45-b9848e40ca8a",
   "metadata": {},
   "outputs": [],
   "source": []
  }
 ],
 "metadata": {
  "kernelspec": {
   "display_name": "Python 3 (ipykernel)",
   "language": "python",
   "name": "python3"
  },
  "language_info": {
   "codemirror_mode": {
    "name": "ipython",
    "version": 3
   },
   "file_extension": ".py",
   "mimetype": "text/x-python",
   "name": "python",
   "nbconvert_exporter": "python",
   "pygments_lexer": "ipython3",
   "version": "3.10.9"
  }
 },
 "nbformat": 4,
 "nbformat_minor": 5
}
